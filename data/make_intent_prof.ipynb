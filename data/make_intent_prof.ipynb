{
 "cells": [
  {
   "cell_type": "code",
   "execution_count": 113,
   "metadata": {},
   "outputs": [],
   "source": [
    "import pandas as pd\n",
    "prof = pd.read_csv('prof_info.csv', header=None)\n",
    "prof = list(prof[0])\n",
    "prof = prof[1:]"
   ]
  },
  {
   "cell_type": "code",
   "execution_count": 114,
   "metadata": {},
   "outputs": [],
   "source": [
    "inform = ['','정보'] # For making 정보.csv\n",
    "mail = ['메일','이메일'] # For making 이메일.csv\n",
    "phone = ['전화번호','연락처'] # For making 연락처.csv\n",
    "room = ['연구실'] # For making 연구실.csv\n",
    "please = ['', '알려줘', '알려줄래', '찾아줘', '찾아줄래', '알아?']"
   ]
  },
  {
   "cell_type": "code",
   "execution_count": 115,
   "metadata": {},
   "outputs": [],
   "source": [
    "# For making 정보.csv\n",
    "question = []\n",
    "intent = []\n",
    "for i in range(len(prof)):\n",
    "    for j in range(len(inform)):\n",
    "        for k in range(len(please)):\n",
    "            sentence = prof[i] + ' 교수님 ' + inform[j] + ' '+ please[k]\n",
    "            question.append(sentence)\n",
    "            intent.append('정보')"
   ]
  },
  {
   "cell_type": "code",
   "execution_count": 92,
   "metadata": {},
   "outputs": [],
   "source": [
    "# For making 이메일.csv\n",
    "question = []\n",
    "intent = []\n",
    "for i in range(len(prof)):\n",
    "    for j in range(len(mail)):\n",
    "        for k in range(len(please)):\n",
    "            sentence = prof[i] + ' 교수님 ' + mail[j] + ' '+ please[k]\n",
    "            question.append(sentence)\n",
    "            intent.append('이메일')"
   ]
  },
  {
   "cell_type": "code",
   "execution_count": 98,
   "metadata": {},
   "outputs": [],
   "source": [
    "# For making 연락처.csv\n",
    "question = []\n",
    "intent = []\n",
    "for i in range(len(prof)):\n",
    "    for j in range(len(phone)):\n",
    "        for k in range(len(please)):\n",
    "            sentence = prof[i] + ' 교수님 ' + phone[j] + ' '+ please[k]\n",
    "            question.append(sentence)\n",
    "            intent.append('연락처')"
   ]
  },
  {
   "cell_type": "code",
   "execution_count": 104,
   "metadata": {},
   "outputs": [],
   "source": [
    "# For making 연구실.csv\n",
    "question = []\n",
    "intent = []\n",
    "for i in range(len(prof)):\n",
    "    for j in range(len(room)):\n",
    "        for k in range(len(please)):\n",
    "            sentence = prof[i] + ' 교수님 ' + room[j] + ' '+ please[k]\n",
    "            question.append(sentence)\n",
    "            intent.append('연구실')"
   ]
  },
  {
   "cell_type": "code",
   "execution_count": 105,
   "metadata": {},
   "outputs": [],
   "source": [
    "# For making 연구실.csv\n",
    "for name in prof:\n",
    "    sentence = name + ' 교수님 연구실 어디야?'\n",
    "    question.append(sentence)\n",
    "    intent.append('연구실')"
   ]
  },
  {
   "cell_type": "code",
   "execution_count": 116,
   "metadata": {},
   "outputs": [
    {
     "name": "stdout",
     "output_type": "stream",
     "text": [
      "120\n",
      "120\n"
     ]
    }
   ],
   "source": [
    "print(len(question))\n",
    "print(len(intent))"
   ]
  },
  {
   "cell_type": "code",
   "execution_count": 107,
   "metadata": {},
   "outputs": [],
   "source": [
    "import numpy as np\n",
    "question.extend(intent) # len(intent) = 45684\n",
    "arr_intent = np.array(question)\n",
    "arr_intent = arr_intent.reshape(-1, len(intent)) # len(tent) = 22932\n",
    "arr_intent = arr_intent.transpose()"
   ]
  },
  {
   "cell_type": "code",
   "execution_count": 108,
   "metadata": {},
   "outputs": [
    {
     "data": {
      "text/plain": [
       "array([['강경란 교수님 연구실 ', '연구실'],\n",
       "       ['강경란 교수님 연구실 알려줘', '연구실'],\n",
       "       ['강경란 교수님 연구실 알려줄래', '연구실'],\n",
       "       ...,\n",
       "       ['김성희 교수님 연구실 어디야?', '연구실'],\n",
       "       ['김수경 교수님 연구실 어디야?', '연구실'],\n",
       "       ['김수은 교수님 연구실 어디야?', '연구실']], dtype='<U16')"
      ]
     },
     "execution_count": 108,
     "metadata": {},
     "output_type": "execute_result"
    }
   ],
   "source": [
    "arr_intent"
   ]
  },
  {
   "cell_type": "code",
   "execution_count": 109,
   "metadata": {},
   "outputs": [
    {
     "data": {
      "text/html": [
       "<div>\n",
       "<style scoped>\n",
       "    .dataframe tbody tr th:only-of-type {\n",
       "        vertical-align: middle;\n",
       "    }\n",
       "\n",
       "    .dataframe tbody tr th {\n",
       "        vertical-align: top;\n",
       "    }\n",
       "\n",
       "    .dataframe thead th {\n",
       "        text-align: right;\n",
       "    }\n",
       "</style>\n",
       "<table border=\"1\" class=\"dataframe\">\n",
       "  <thead>\n",
       "    <tr style=\"text-align: right;\">\n",
       "      <th></th>\n",
       "      <th>0</th>\n",
       "      <th>1</th>\n",
       "    </tr>\n",
       "  </thead>\n",
       "  <tbody>\n",
       "    <tr>\n",
       "      <th>0</th>\n",
       "      <td>강경란 교수님 연구실</td>\n",
       "      <td>연구실</td>\n",
       "    </tr>\n",
       "    <tr>\n",
       "      <th>1</th>\n",
       "      <td>강경란 교수님 연구실 알려줘</td>\n",
       "      <td>연구실</td>\n",
       "    </tr>\n",
       "    <tr>\n",
       "      <th>2</th>\n",
       "      <td>강경란 교수님 연구실 알려줄래</td>\n",
       "      <td>연구실</td>\n",
       "    </tr>\n",
       "    <tr>\n",
       "      <th>3</th>\n",
       "      <td>강경란 교수님 연구실 찾아줘</td>\n",
       "      <td>연구실</td>\n",
       "    </tr>\n",
       "    <tr>\n",
       "      <th>4</th>\n",
       "      <td>강경란 교수님 연구실 찾아줄래</td>\n",
       "      <td>연구실</td>\n",
       "    </tr>\n",
       "    <tr>\n",
       "      <th>...</th>\n",
       "      <td>...</td>\n",
       "      <td>...</td>\n",
       "    </tr>\n",
       "    <tr>\n",
       "      <th>695</th>\n",
       "      <td>김성화 교수님 연구실 어디야?</td>\n",
       "      <td>연구실</td>\n",
       "    </tr>\n",
       "    <tr>\n",
       "      <th>696</th>\n",
       "      <td>김성훈 교수님 연구실 어디야?</td>\n",
       "      <td>연구실</td>\n",
       "    </tr>\n",
       "    <tr>\n",
       "      <th>697</th>\n",
       "      <td>김성희 교수님 연구실 어디야?</td>\n",
       "      <td>연구실</td>\n",
       "    </tr>\n",
       "    <tr>\n",
       "      <th>698</th>\n",
       "      <td>김수경 교수님 연구실 어디야?</td>\n",
       "      <td>연구실</td>\n",
       "    </tr>\n",
       "    <tr>\n",
       "      <th>699</th>\n",
       "      <td>김수은 교수님 연구실 어디야?</td>\n",
       "      <td>연구실</td>\n",
       "    </tr>\n",
       "  </tbody>\n",
       "</table>\n",
       "<p>700 rows × 2 columns</p>\n",
       "</div>"
      ],
      "text/plain": [
       "                    0    1\n",
       "0        강경란 교수님 연구실   연구실\n",
       "1     강경란 교수님 연구실 알려줘  연구실\n",
       "2    강경란 교수님 연구실 알려줄래  연구실\n",
       "3     강경란 교수님 연구실 찾아줘  연구실\n",
       "4    강경란 교수님 연구실 찾아줄래  연구실\n",
       "..                ...  ...\n",
       "695  김성화 교수님 연구실 어디야?  연구실\n",
       "696  김성훈 교수님 연구실 어디야?  연구실\n",
       "697  김성희 교수님 연구실 어디야?  연구실\n",
       "698  김수경 교수님 연구실 어디야?  연구실\n",
       "699  김수은 교수님 연구실 어디야?  연구실\n",
       "\n",
       "[700 rows x 2 columns]"
      ]
     },
     "execution_count": 109,
     "metadata": {},
     "output_type": "execute_result"
    }
   ],
   "source": [
    "new_intent = pd.DataFrame(arr_intent)\n",
    "new_intent"
   ]
  },
  {
   "cell_type": "code",
   "execution_count": 112,
   "metadata": {},
   "outputs": [],
   "source": [
    "new_intent.to_csv('연구실.csv', header=0) # 파일명 바꿔주기\n",
    "\n",
    "\n",
    "\"\"\"\n",
    "<변경사항>\n",
    "1. question이랑 intent는 나중에 intent_data.py를 이용해서 만들 때 알아서 다 붙여주기 때문에 안씀\n",
    "2. header = 0은 맨 위에 index 없애는거\n",
    "3. 나중에 의도 학습 시킬 때, configs.py에 read_csv에 index_col=0 안해줘도됨!\n",
    "\"\"\"\n"
   ]
  },
  {
   "cell_type": "markdown",
   "metadata": {},
   "source": [
    "----"
   ]
  }
 ],
 "metadata": {
  "kernelspec": {
   "display_name": "Python 3",
   "language": "python",
   "name": "python3"
  },
  "language_info": {
   "codemirror_mode": {
    "name": "ipython",
    "version": 3
   },
   "file_extension": ".py",
   "mimetype": "text/x-python",
   "name": "python",
   "nbconvert_exporter": "python",
   "pygments_lexer": "ipython3",
   "version": "3.6.9"
  }
 },
 "nbformat": 4,
 "nbformat_minor": 4
}
