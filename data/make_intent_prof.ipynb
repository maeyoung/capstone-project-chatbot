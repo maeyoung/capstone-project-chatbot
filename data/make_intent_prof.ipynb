{
 "cells": [
  {
   "cell_type": "code",
   "execution_count": 21,
   "metadata": {},
   "outputs": [],
   "source": [
    "import pandas as pd\n",
    "prof = pd.read_csv('professor.csv', header=None)\n",
    "prof = list(prof[0])"
   ]
  },
  {
   "cell_type": "code",
   "execution_count": 22,
   "metadata": {},
   "outputs": [],
   "source": [
    "inform = ['이메일', '전화번호', '연락처', '연구실']\n",
    "please = ['', '알려줘', '알려줄래', '찾아줘', '찾아줄래', '알아?']"
   ]
  },
  {
   "cell_type": "code",
   "execution_count": 23,
   "metadata": {},
   "outputs": [],
   "source": [
    "intent = [] # 질문 set\n",
    "tent = [] # 의도\n",
    "for i in range(len(prof)):\n",
    "    for j in range(len(inform)):\n",
    "        for k in range(len(please)):\n",
    "            sentence = prof[i]+ ' 교수님 '+ inform[j] + ' ' + please[k]\n",
    "            intent.append(sentence)\n",
    "            if j == 0: # 이메일\n",
    "                tent.append('교수이메일')\n",
    "            elif j == 1 or j == 2: # 전화번호, 연락처\n",
    "                tent.append('교수연락처')\n",
    "            else: # 연구실\n",
    "                tent.append('교수연구실')"
   ]
  },
  {
   "cell_type": "code",
   "execution_count": 24,
   "metadata": {},
   "outputs": [],
   "source": [
    "for name in prof:\n",
    "    sentence = name + ' 교수님 연구실 어디야?'\n",
    "    intent.append(sentence)\n",
    "    tent.append('교수연구실')\n",
    "for name in prof:\n",
    "    for i in range(3):\n",
    "        sentence = name + ' 교수님 정보 ' + please[i]\n",
    "        intent.append(sentence)\n",
    "        tent.append('교수님정보') #?"
   ]
  },
  {
   "cell_type": "code",
   "execution_count": 25,
   "metadata": {},
   "outputs": [
    {
     "name": "stdout",
     "output_type": "stream",
     "text": [
      "22932\n",
      "22932\n"
     ]
    }
   ],
   "source": [
    "print(len(intent))\n",
    "print(len(tent))"
   ]
  },
  {
   "cell_type": "code",
   "execution_count": 26,
   "metadata": {},
   "outputs": [],
   "source": [
    "import numpy as np\n",
    "intent.extend(tent) # len(intent) = 45684\n",
    "arr_intent = np.array(intent)\n",
    "arr_intent = arr_intent.reshape(-1, len(tent)) # len(tent) = 22932\n",
    "arr_intent = arr_intent.transpose()"
   ]
  },
  {
   "cell_type": "code",
   "execution_count": 27,
   "metadata": {},
   "outputs": [
    {
     "data": {
      "text/plain": [
       "array([['강경란 교수님 이메일 ', '교수이메일'],\n",
       "       ['강경란 교수님 이메일 알려줘', '교수이메일'],\n",
       "       ['강경란 교수님 이메일 알려줄래', '교수이메일'],\n",
       "       ...,\n",
       "       ['ZHAO YUE 교수님 정보 ', '교수님정보'],\n",
       "       ['ZHAO YUE 교수님 정보 알려줘', '교수님정보'],\n",
       "       ['ZHAO YUE 교수님 정보 알려줄래', '교수님정보']], dtype='<U41')"
      ]
     },
     "execution_count": 27,
     "metadata": {},
     "output_type": "execute_result"
    }
   ],
   "source": [
    "arr_intent"
   ]
  },
  {
   "cell_type": "code",
   "execution_count": 28,
   "metadata": {},
   "outputs": [
    {
     "data": {
      "text/html": [
       "<div>\n",
       "<style scoped>\n",
       "    .dataframe tbody tr th:only-of-type {\n",
       "        vertical-align: middle;\n",
       "    }\n",
       "\n",
       "    .dataframe tbody tr th {\n",
       "        vertical-align: top;\n",
       "    }\n",
       "\n",
       "    .dataframe thead th {\n",
       "        text-align: right;\n",
       "    }\n",
       "</style>\n",
       "<table border=\"1\" class=\"dataframe\">\n",
       "  <thead>\n",
       "    <tr style=\"text-align: right;\">\n",
       "      <th></th>\n",
       "      <th>0</th>\n",
       "      <th>1</th>\n",
       "    </tr>\n",
       "  </thead>\n",
       "  <tbody>\n",
       "    <tr>\n",
       "      <th>0</th>\n",
       "      <td>강경란 교수님 이메일</td>\n",
       "      <td>교수이메일</td>\n",
       "    </tr>\n",
       "    <tr>\n",
       "      <th>1</th>\n",
       "      <td>강경란 교수님 이메일 알려줘</td>\n",
       "      <td>교수이메일</td>\n",
       "    </tr>\n",
       "    <tr>\n",
       "      <th>2</th>\n",
       "      <td>강경란 교수님 이메일 알려줄래</td>\n",
       "      <td>교수이메일</td>\n",
       "    </tr>\n",
       "    <tr>\n",
       "      <th>3</th>\n",
       "      <td>강경란 교수님 이메일 찾아줘</td>\n",
       "      <td>교수이메일</td>\n",
       "    </tr>\n",
       "    <tr>\n",
       "      <th>4</th>\n",
       "      <td>강경란 교수님 이메일 찾아줄래</td>\n",
       "      <td>교수이메일</td>\n",
       "    </tr>\n",
       "    <tr>\n",
       "      <th>...</th>\n",
       "      <td>...</td>\n",
       "      <td>...</td>\n",
       "    </tr>\n",
       "    <tr>\n",
       "      <th>22927</th>\n",
       "      <td>ZHAO  교수님 정보 알려줘</td>\n",
       "      <td>교수님정보</td>\n",
       "    </tr>\n",
       "    <tr>\n",
       "      <th>22928</th>\n",
       "      <td>ZHAO  교수님 정보 알려줄래</td>\n",
       "      <td>교수님정보</td>\n",
       "    </tr>\n",
       "    <tr>\n",
       "      <th>22929</th>\n",
       "      <td>ZHAO YUE 교수님 정보</td>\n",
       "      <td>교수님정보</td>\n",
       "    </tr>\n",
       "    <tr>\n",
       "      <th>22930</th>\n",
       "      <td>ZHAO YUE 교수님 정보 알려줘</td>\n",
       "      <td>교수님정보</td>\n",
       "    </tr>\n",
       "    <tr>\n",
       "      <th>22931</th>\n",
       "      <td>ZHAO YUE 교수님 정보 알려줄래</td>\n",
       "      <td>교수님정보</td>\n",
       "    </tr>\n",
       "  </tbody>\n",
       "</table>\n",
       "<p>22932 rows × 2 columns</p>\n",
       "</div>"
      ],
      "text/plain": [
       "                          0      1\n",
       "0              강경란 교수님 이메일   교수이메일\n",
       "1           강경란 교수님 이메일 알려줘  교수이메일\n",
       "2          강경란 교수님 이메일 알려줄래  교수이메일\n",
       "3           강경란 교수님 이메일 찾아줘  교수이메일\n",
       "4          강경란 교수님 이메일 찾아줄래  교수이메일\n",
       "...                     ...    ...\n",
       "22927      ZHAO  교수님 정보 알려줘  교수님정보\n",
       "22928     ZHAO  교수님 정보 알려줄래  교수님정보\n",
       "22929      ZHAO YUE 교수님 정보   교수님정보\n",
       "22930   ZHAO YUE 교수님 정보 알려줘  교수님정보\n",
       "22931  ZHAO YUE 교수님 정보 알려줄래  교수님정보\n",
       "\n",
       "[22932 rows x 2 columns]"
      ]
     },
     "execution_count": 28,
     "metadata": {},
     "output_type": "execute_result"
    }
   ],
   "source": [
    "new_intent = pd.DataFrame(arr_intent)\n",
    "new_intent"
   ]
  },
  {
   "cell_type": "code",
   "execution_count": 53,
   "metadata": {},
   "outputs": [],
   "source": [
    "new_intent.to_csv('train_intent.csv')\n",
    "# 추후 read_csv시, index_col = 0 설정 (앞열 숫자 제거)"
   ]
  },
  {
   "cell_type": "code",
   "execution_count": null,
   "metadata": {},
   "outputs": [],
   "source": []
  }
 ],
 "metadata": {
  "kernelspec": {
   "display_name": "Python 3",
   "language": "python",
   "name": "python3"
  },
  "language_info": {
   "codemirror_mode": {
    "name": "ipython",
    "version": 3
   },
   "file_extension": ".py",
   "mimetype": "text/x-python",
   "name": "python",
   "nbconvert_exporter": "python",
   "pygments_lexer": "ipython3",
   "version": "3.6.9"
  }
 },
 "nbformat": 4,
 "nbformat_minor": 4
}
