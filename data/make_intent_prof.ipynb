{
 "cells": [
  {
   "cell_type": "code",
   "execution_count": 7,
   "metadata": {},
   "outputs": [],
   "source": [
    "import pandas as pd\n",
    "prof = pd.read_csv('prof_info.csv', header=None)\n",
    "prof = list(prof[0])\n",
    "prof = prof[1:101]"
   ]
  },
  {
   "cell_type": "code",
   "execution_count": 8,
   "metadata": {},
   "outputs": [],
   "source": [
    "inform = ['이메일','메일', '전화번호', '연락처', '연구실']\n",
    "please = ['', '알려줘', '알려줄래', '찾아줘', '찾아줄래', '알아?']"
   ]
  },
  {
   "cell_type": "code",
   "execution_count": 9,
   "metadata": {},
   "outputs": [],
   "source": [
    "intent = [] # 질문 set\n",
    "tent = [] # 의도\n",
    "for i in range(len(prof)):\n",
    "    for j in range(len(inform)):\n",
    "        for k in range(len(please)):\n",
    "            sentence = prof[i]+ ' 교수님 '+ inform[j] + ' ' + please[k]\n",
    "            intent.append(sentence)\n",
    "            if j == 0 or j == 1: # 이메일\n",
    "                tent.append('이메일')\n",
    "            elif j == 2 or j == 3: # 전화번호, 연락처\n",
    "                tent.append('연락처')\n",
    "            else: # 연구실\n",
    "                tent.append('연구실')"
   ]
  },
  {
   "cell_type": "code",
   "execution_count": 10,
   "metadata": {},
   "outputs": [],
   "source": [
    "for name in prof:\n",
    "    sentence = name + ' 교수님 연구실 어디야?'\n",
    "    intent.append(sentence)\n",
    "    tent.append('연구실')\n",
    "for name in prof:\n",
    "    for i in range(3):\n",
    "        sentence = name + ' 교수님 정보 ' + please[i]\n",
    "        intent.append(sentence)\n",
    "        tent.append('정보') #?"
   ]
  },
  {
   "cell_type": "code",
   "execution_count": 11,
   "metadata": {},
   "outputs": [
    {
     "name": "stdout",
     "output_type": "stream",
     "text": [
      "3400\n",
      "3400\n"
     ]
    }
   ],
   "source": [
    "print(len(intent))\n",
    "print(len(tent))"
   ]
  },
  {
   "cell_type": "code",
   "execution_count": 12,
   "metadata": {},
   "outputs": [],
   "source": [
    "import numpy as np\n",
    "intent.extend(tent) # len(intent) = 45684\n",
    "arr_intent = np.array(intent)\n",
    "arr_intent = arr_intent.reshape(-1, len(tent)) # len(tent) = 22932\n",
    "arr_intent = arr_intent.transpose()"
   ]
  },
  {
   "cell_type": "code",
   "execution_count": 13,
   "metadata": {},
   "outputs": [
    {
     "data": {
      "text/plain": [
       "array([['강경란 교수님 이메일 ', '이메일'],\n",
       "       ['강경란 교수님 이메일 알려줘', '이메일'],\n",
       "       ['강경란 교수님 이메일 알려줄래', '이메일'],\n",
       "       ...,\n",
       "       ['김수은 교수님 정보 ', '정보'],\n",
       "       ['김수은 교수님 정보 알려줘', '정보'],\n",
       "       ['김수은 교수님 정보 알려줄래', '정보']], dtype='<U17')"
      ]
     },
     "execution_count": 13,
     "metadata": {},
     "output_type": "execute_result"
    }
   ],
   "source": [
    "arr_intent"
   ]
  },
  {
   "cell_type": "code",
   "execution_count": 14,
   "metadata": {},
   "outputs": [
    {
     "data": {
      "text/html": [
       "<div>\n",
       "<style scoped>\n",
       "    .dataframe tbody tr th:only-of-type {\n",
       "        vertical-align: middle;\n",
       "    }\n",
       "\n",
       "    .dataframe tbody tr th {\n",
       "        vertical-align: top;\n",
       "    }\n",
       "\n",
       "    .dataframe thead th {\n",
       "        text-align: right;\n",
       "    }\n",
       "</style>\n",
       "<table border=\"1\" class=\"dataframe\">\n",
       "  <thead>\n",
       "    <tr style=\"text-align: right;\">\n",
       "      <th></th>\n",
       "      <th>question</th>\n",
       "      <th>intent</th>\n",
       "    </tr>\n",
       "  </thead>\n",
       "  <tbody>\n",
       "    <tr>\n",
       "      <th>0</th>\n",
       "      <td>강경란 교수님 이메일</td>\n",
       "      <td>이메일</td>\n",
       "    </tr>\n",
       "    <tr>\n",
       "      <th>1</th>\n",
       "      <td>강경란 교수님 이메일 알려줘</td>\n",
       "      <td>이메일</td>\n",
       "    </tr>\n",
       "    <tr>\n",
       "      <th>2</th>\n",
       "      <td>강경란 교수님 이메일 알려줄래</td>\n",
       "      <td>이메일</td>\n",
       "    </tr>\n",
       "    <tr>\n",
       "      <th>3</th>\n",
       "      <td>강경란 교수님 이메일 찾아줘</td>\n",
       "      <td>이메일</td>\n",
       "    </tr>\n",
       "    <tr>\n",
       "      <th>4</th>\n",
       "      <td>강경란 교수님 이메일 찾아줄래</td>\n",
       "      <td>이메일</td>\n",
       "    </tr>\n",
       "    <tr>\n",
       "      <th>...</th>\n",
       "      <td>...</td>\n",
       "      <td>...</td>\n",
       "    </tr>\n",
       "    <tr>\n",
       "      <th>3395</th>\n",
       "      <td>김수경 교수님 정보 알려줘</td>\n",
       "      <td>정보</td>\n",
       "    </tr>\n",
       "    <tr>\n",
       "      <th>3396</th>\n",
       "      <td>김수경 교수님 정보 알려줄래</td>\n",
       "      <td>정보</td>\n",
       "    </tr>\n",
       "    <tr>\n",
       "      <th>3397</th>\n",
       "      <td>김수은 교수님 정보</td>\n",
       "      <td>정보</td>\n",
       "    </tr>\n",
       "    <tr>\n",
       "      <th>3398</th>\n",
       "      <td>김수은 교수님 정보 알려줘</td>\n",
       "      <td>정보</td>\n",
       "    </tr>\n",
       "    <tr>\n",
       "      <th>3399</th>\n",
       "      <td>김수은 교수님 정보 알려줄래</td>\n",
       "      <td>정보</td>\n",
       "    </tr>\n",
       "  </tbody>\n",
       "</table>\n",
       "<p>3400 rows × 2 columns</p>\n",
       "</div>"
      ],
      "text/plain": [
       "              question intent\n",
       "0         강경란 교수님 이메일     이메일\n",
       "1      강경란 교수님 이메일 알려줘    이메일\n",
       "2     강경란 교수님 이메일 알려줄래    이메일\n",
       "3      강경란 교수님 이메일 찾아줘    이메일\n",
       "4     강경란 교수님 이메일 찾아줄래    이메일\n",
       "...                ...    ...\n",
       "3395    김수경 교수님 정보 알려줘     정보\n",
       "3396   김수경 교수님 정보 알려줄래     정보\n",
       "3397       김수은 교수님 정보      정보\n",
       "3398    김수은 교수님 정보 알려줘     정보\n",
       "3399   김수은 교수님 정보 알려줄래     정보\n",
       "\n",
       "[3400 rows x 2 columns]"
      ]
     },
     "execution_count": 14,
     "metadata": {},
     "output_type": "execute_result"
    }
   ],
   "source": [
    "new_intent = pd.DataFrame(arr_intent, columns=['question', 'intent'], index=None)\n",
    "new_intent"
   ]
  },
  {
   "cell_type": "code",
   "execution_count": 15,
   "metadata": {},
   "outputs": [],
   "source": [
    "new_intent.to_csv('train_intent_test.csv')\n",
    "# 추후 read_csv시, index_col = 0 설정 (앞열 숫자 제거)"
   ]
  },
  {
   "cell_type": "markdown",
   "metadata": {},
   "source": [
    "----"
   ]
  },
  {
   "cell_type": "code",
   "execution_count": null,
   "metadata": {},
   "outputs": [],
   "source": []
  }
 ],
 "metadata": {
  "kernelspec": {
   "display_name": "Python 3",
   "language": "python",
   "name": "python3"
  },
  "language_info": {
   "codemirror_mode": {
    "name": "ipython",
    "version": 3
   },
   "file_extension": ".py",
   "mimetype": "text/x-python",
   "name": "python",
   "nbconvert_exporter": "python",
   "pygments_lexer": "ipython3",
   "version": "3.6.9"
  }
 },
 "nbformat": 4,
 "nbformat_minor": 4
}
